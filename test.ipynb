{
 "cells": [
  {
   "cell_type": "code",
   "execution_count": 3,
   "metadata": {},
   "outputs": [
    {
     "name": "stdout",
     "output_type": "stream",
     "text": [
      "building\n",
      "pruning\n",
      "call\n"
     ]
    }
   ],
   "source": [
    "from gameTree import Node, Tree\n",
    "import msgpack\n",
    "with open('rate_2c.msgpack') as data_file:\n",
    "    rate = msgpack.unpack(data_file)\n",
    "\n",
    "root = Node(\"SB\", None, 10, 20, [\"SA\", \"HA\"], 2, rate.get(\"AAd\"))\n",
    "tree = Tree(root)\n",
    "tree.set_my_role(\"SB\")\n",
    "print \"building\"\n",
    "tree.build_tree()\n",
    "print \"pruning\"\n",
    "from AlphaBeta import AlphaBeta\n",
    "prun = AlphaBeta(tree)\n",
    "result = prun.alpha_beta_search(root)\n",
    "prun.getUtility(\"SB\", root.children[1], prun.factors)\n",
    "print result"
   ]
  },
  {
   "cell_type": "code",
   "execution_count": null,
   "metadata": {},
   "outputs": [],
   "source": []
  }
 ],
 "metadata": {
  "kernelspec": {
   "display_name": "Python 2",
   "language": "python",
   "name": "python2"
  },
  "language_info": {
   "codemirror_mode": {
    "name": "ipython",
    "version": 2
   },
   "file_extension": ".py",
   "mimetype": "text/x-python",
   "name": "python",
   "nbconvert_exporter": "python",
   "pygments_lexer": "ipython2",
   "version": "2.7.10"
  }
 },
 "nbformat": 4,
 "nbformat_minor": 2
}

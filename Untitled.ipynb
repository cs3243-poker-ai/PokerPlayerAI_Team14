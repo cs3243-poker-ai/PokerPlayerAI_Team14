{
 "cells": [
  {
   "cell_type": "code",
   "execution_count": 71,
   "metadata": {},
   "outputs": [],
   "source": [
    "class GameNode:\n",
    "    def __init__(self, value, layer=0, parent=None):\n",
    "        self.layer = layer\n",
    "        self.value = value    # an int\n",
    "        self.parent = parent  # a node reference\n",
    "        self.children = []    # a list of nodes\n",
    "\n",
    "    def addChild(self, childNode):\n",
    "        self.children.append(childNode)"
   ]
  },
  {
   "cell_type": "code",
   "execution_count": 82,
   "metadata": {},
   "outputs": [],
   "source": [
    "class GameTree:\n",
    "    def __init__(self):\n",
    "        self.root = None\n",
    "\n",
    "    def generateChildren(self, parent):\n",
    "        children = []\n",
    "        value = parent.value\n",
    "        children.append(value - 2);\n",
    "        children.append(value);\n",
    "        children.append(value + 2);\n",
    "        layer = parent.layer + 1\n",
    "        return map(lambda child: (child, parent, layer), children)\n",
    "    \n",
    "    def build_tree(self, root, limit):\n",
    "        \"\"\"\n",
    "        :param data_list: Take data in list format\n",
    "        :return: Parse a tree from it\n",
    "        \"\"\"\n",
    "        self.root = GameNode(root)\n",
    "        touples = self.generateChildren(self.root) # add new children\n",
    "        while len(touples) != 0:\n",
    "            current = touples.pop()\n",
    "            layer = current[2]\n",
    "            parent = current[1]\n",
    "            child = current[0]            \n",
    "            newChild = GameNode(child, layer, parent)\n",
    "            parent.addChild(newChild)\n",
    "            if child != parent.value and layer <= limit :\n",
    "                touples.extend(self.generateChildren(newChild))"
   ]
  },
  {
   "cell_type": "code",
   "execution_count": 83,
   "metadata": {},
   "outputs": [],
   "source": [
    "test = GameTree()\n",
    "test.build_tree(5, 3)"
   ]
  },
  {
   "cell_type": "code",
   "execution_count": 84,
   "metadata": {},
   "outputs": [],
   "source": [
    "def printN(node):\n",
    "    print node.value\n",
    "    print node.layer\n",
    "    print \"children\\n\"\n",
    "    for child in node.children:\n",
    "        print \"value is \" + str(child.value)\n",
    "        print \"at the layer \" + str(child.layer)\n",
    "        print \"parent is \" + str(child.parent.value)\n",
    "        print \"\\n\""
   ]
  },
  {
   "cell_type": "code",
   "execution_count": 92,
   "metadata": {},
   "outputs": [
    {
     "name": "stdout",
     "output_type": "stream",
     "text": [
      "5\n",
      "2\n",
      "children\n",
      "\n",
      "value is 7\n",
      "at the layer 3\n",
      "parent is 5\n",
      "\n",
      "\n",
      "value is 5\n",
      "at the layer 3\n",
      "parent is 5\n",
      "\n",
      "\n",
      "value is 3\n",
      "at the layer 3\n",
      "parent is 5\n",
      "\n",
      "\n"
     ]
    }
   ],
   "source": [
    "printN(test.root.children[0].children[2])"
   ]
  },
  {
   "cell_type": "code",
   "execution_count": null,
   "metadata": {},
   "outputs": [],
   "source": []
  }
 ],
 "metadata": {
  "kernelspec": {
   "display_name": "Python 2",
   "language": "python",
   "name": "python2"
  },
  "language_info": {
   "codemirror_mode": {
    "name": "ipython",
    "version": 2
   },
   "file_extension": ".py",
   "mimetype": "text/x-python",
   "name": "python",
   "nbconvert_exporter": "python",
   "pygments_lexer": "ipython2",
   "version": "2.7.10"
  }
 },
 "nbformat": 4,
 "nbformat_minor": 2
}

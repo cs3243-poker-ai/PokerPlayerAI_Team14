{
 "cells": [
  {
   "cell_type": "code",
   "execution_count": 17,
   "metadata": {},
   "outputs": [],
   "source": [
    "class GameNode:\n",
    "    def __init__(self, value, layer=0, parent=None):\n",
    "        self.layer = layer\n",
    "        self.value = value    # an int\n",
    "        self.parent = parent  # a node reference\n",
    "        self.children = []    # a list of nodes\n",
    "\n",
    "    def addChild(self, childNode):\n",
    "        self.children.append(childNode)"
   ]
  },
  {
   "cell_type": "code",
   "execution_count": 20,
   "metadata": {},
   "outputs": [],
   "source": [
    "class GameTree:\n",
    "    def __init__(self):\n",
    "        self.root = None\n",
    "\n",
    "    def generateChildren(parent):\n",
    "        children = []\n",
    "        children.append(parent - 2);\n",
    "        children.append(parent);\n",
    "        children.append(parent + 2);\n",
    "        layer = parent.layer + 1\n",
    "        return map(lambda child: (child, parent, layer), children)\n",
    "    \n",
    "    def build_tree(self, root):\n",
    "        \"\"\"\n",
    "        :param data_list: Take data in list format\n",
    "        :return: Parse a tree from it\n",
    "        \"\"\"\n",
    "        self.root = GameNode(root)\n",
    "        touples = generateChildren(root)[0] # add new children\n",
    "        while len(touples) != 0:\n",
    "            current = touple.pop()\n",
    "            layer = current[2]\n",
    "            parent = current[1]\n",
    "            child = current[0]            \n",
    "            newChild = GameNode(child, layer, parent)\n",
    "            parent.addChild(newChild)\n",
    "            if child != parent and layer <= 4 :\n",
    "                children.extend(generateChildren(child))\n",
    "\n",
    "    def parse_subtree(self, data_list, parent):\n",
    "        # base case\n",
    "        if type(data_list) is tuple:\n",
    "            # make connections\n",
    "            leaf_node = GameNode(data_list[0])\n",
    "            leaf_node.parent = parent\n",
    "            parent.addChild(leaf_node)\n",
    "            # if we're at a leaf, set the value\n",
    "            if len(data_list) == 2:\n",
    "                leaf_node.value = data_list[1]\n",
    "            return\n",
    "\n",
    "        # recursive case\n",
    "        tree_node = GameNode(data_list.pop(0))\n",
    "        # make connections\n",
    "        tree_node.parent = parent\n",
    "        parent.addChild(tree_node)\n",
    "        for elem in data_list:\n",
    "            self.parse_subtree(elem, tree_node)\n",
    "\n",
    "        # return from entire method if base case and recursive case both done running\n",
    "        return"
   ]
  },
  {
   "cell_type": "code",
   "execution_count": 21,
   "metadata": {},
   "outputs": [
    {
     "ename": "NameError",
     "evalue": "global name 'generateChildren' is not defined",
     "output_type": "error",
     "traceback": [
      "\u001b[0;31m---------------------------------------------------------------------------\u001b[0m",
      "\u001b[0;31mNameError\u001b[0m                                 Traceback (most recent call last)",
      "\u001b[0;32m<ipython-input-21-b69ac53b935b>\u001b[0m in \u001b[0;36m<module>\u001b[0;34m()\u001b[0m\n\u001b[1;32m      1\u001b[0m \u001b[0mtest\u001b[0m \u001b[0;34m=\u001b[0m \u001b[0mGameTree\u001b[0m\u001b[0;34m(\u001b[0m\u001b[0;34m)\u001b[0m\u001b[0;34m\u001b[0m\u001b[0m\n\u001b[0;32m----> 2\u001b[0;31m \u001b[0mtest\u001b[0m\u001b[0;34m.\u001b[0m\u001b[0mbuild_tree\u001b[0m\u001b[0;34m(\u001b[0m\u001b[0;36m5\u001b[0m\u001b[0;34m)\u001b[0m\u001b[0;34m\u001b[0m\u001b[0m\n\u001b[0m",
      "\u001b[0;32m<ipython-input-20-564b6cf274d0>\u001b[0m in \u001b[0;36mbuild_tree\u001b[0;34m(self, root)\u001b[0m\n\u001b[1;32m     17\u001b[0m         \"\"\"\n\u001b[1;32m     18\u001b[0m         \u001b[0mself\u001b[0m\u001b[0;34m.\u001b[0m\u001b[0mroot\u001b[0m \u001b[0;34m=\u001b[0m \u001b[0mGameNode\u001b[0m\u001b[0;34m(\u001b[0m\u001b[0mroot\u001b[0m\u001b[0;34m)\u001b[0m\u001b[0;34m\u001b[0m\u001b[0m\n\u001b[0;32m---> 19\u001b[0;31m         \u001b[0mtouples\u001b[0m \u001b[0;34m=\u001b[0m \u001b[0mgenerateChildren\u001b[0m\u001b[0;34m(\u001b[0m\u001b[0mroot\u001b[0m\u001b[0;34m)\u001b[0m\u001b[0;34m[\u001b[0m\u001b[0;36m0\u001b[0m\u001b[0;34m]\u001b[0m \u001b[0;31m# add new children\u001b[0m\u001b[0;34m\u001b[0m\u001b[0m\n\u001b[0m\u001b[1;32m     20\u001b[0m         \u001b[0;32mwhile\u001b[0m \u001b[0mlen\u001b[0m\u001b[0;34m(\u001b[0m\u001b[0mtouples\u001b[0m\u001b[0;34m)\u001b[0m \u001b[0;34m!=\u001b[0m \u001b[0;36m0\u001b[0m\u001b[0;34m:\u001b[0m\u001b[0;34m\u001b[0m\u001b[0m\n\u001b[1;32m     21\u001b[0m             \u001b[0mcurrent\u001b[0m \u001b[0;34m=\u001b[0m \u001b[0mtouple\u001b[0m\u001b[0;34m.\u001b[0m\u001b[0mpop\u001b[0m\u001b[0;34m(\u001b[0m\u001b[0;34m)\u001b[0m\u001b[0;34m\u001b[0m\u001b[0m\n",
      "\u001b[0;31mNameError\u001b[0m: global name 'generateChildren' is not defined"
     ]
    }
   ],
   "source": [
    "test = GameTree()\n",
    "test.build_tree(5)"
   ]
  },
  {
   "cell_type": "code",
   "execution_count": null,
   "metadata": {},
   "outputs": [],
   "source": []
  }
 ],
 "metadata": {
  "kernelspec": {
   "display_name": "Python 2",
   "language": "python",
   "name": "python2"
  },
  "language_info": {
   "codemirror_mode": {
    "name": "ipython",
    "version": 2
   },
   "file_extension": ".py",
   "mimetype": "text/x-python",
   "name": "python",
   "nbconvert_exporter": "python",
   "pygments_lexer": "ipython2",
   "version": "2.7.10"
  }
 },
 "nbformat": 4,
 "nbformat_minor": 2
}
